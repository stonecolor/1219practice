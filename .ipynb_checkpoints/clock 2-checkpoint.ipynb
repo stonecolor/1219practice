{
 "cells": [
  {
   "cell_type": "code",
   "execution_count": 7,
   "metadata": {
    "collapsed": false
   },
   "outputs": [
    {
     "name": "stdout",
     "output_type": "stream",
     "text": [
      "現在時間是 Thu Dec 22 02:38:44 2016\n",
      "請輸入你想要鬧鐘響是幾時?02\n",
      "請輸入你想要鬧鐘響是幾分?39\n"
     ]
    }
   ],
   "source": [
    "import time\n",
    "import webbrowser as web\n",
    "a = time.ctime()\n",
    "print(\"現在時間是\",a)\n",
    "hour1 = int(input(\"請輸入你想要鬧鐘響是幾時?\"))\n",
    "minutes=int(input(\"請輸入你想要鬧鐘響是幾分?\"))\n",
    "while True:\n",
    "    a = list(time.localtime()) #本地時間\n",
    "    hour = a[3]\n",
    "    minute = a[4]\n",
    "    if hour == hour1 and minute == minutes:\n",
    "        web.open(\"https://www.youtube.com/watch?v=fzuy63eCUKc&index=18&list=LL9Kw5WFOptqZNpPPZc0GdqQ\")\n",
    "        break"
   ]
  }
 ],
 "metadata": {
  "kernelspec": {
   "display_name": "Python 3",
   "language": "python",
   "name": "python3"
  },
  "language_info": {
   "codemirror_mode": {
    "name": "ipython",
    "version": 3
   },
   "file_extension": ".py",
   "mimetype": "text/x-python",
   "name": "python",
   "nbconvert_exporter": "python",
   "pygments_lexer": "ipython3",
   "version": "3.5.2"
  }
 },
 "nbformat": 4,
 "nbformat_minor": 1
}
