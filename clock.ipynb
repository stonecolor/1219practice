{
 "cells": [
  {
   "cell_type": "code",
   "execution_count": null,
   "metadata": {
    "collapsed": false
   },
   "outputs": [],
   "source": [
    "import time\n",
    "import webbrowser\n",
    "total_breaks = 1\n",
    "break_count=0\n",
    "localtime = time.asctime()\n",
    "print(localtime)\n",
    "while (break_count<total_breaks):\n",
    "    if localtime == \"Thu Dec 22:02:15:00 2016\":\n",
    "        print(hello)\n",
    "        webbrowser.open(\"https://www.youtube.com/watch?v=TVzTnxBQq7E\")\n",
    "    else:\n",
    "        pass\n",
    "    break_count = break_count+1\n",
    "    #time.sleep(10)\n",
    "    #print(\"time to fuck break!!!\"+ time.ctime())\n",
    "    #webbrowser.open(\"https://www.youtube.com/watch?v=TVzTnxBQq7E\")\n",
    "    #break_count = break_count+1"
   ]
  },
  {
   "cell_type": "code",
   "execution_count": null,
   "metadata": {
    "collapsed": true
   },
   "outputs": [],
   "source": []
  }
 ],
 "metadata": {
  "kernelspec": {
   "display_name": "Python 3",
   "language": "python",
   "name": "python3"
  },
  "language_info": {
   "codemirror_mode": {
    "name": "ipython",
    "version": 3
   },
   "file_extension": ".py",
   "mimetype": "text/x-python",
   "name": "python",
   "nbconvert_exporter": "python",
   "pygments_lexer": "ipython3",
   "version": "3.5.2"
  }
 },
 "nbformat": 4,
 "nbformat_minor": 1
}
